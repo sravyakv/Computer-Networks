{
 "cells": [
  {
   "cell_type": "code",
   "execution_count": 3,
   "metadata": {},
   "outputs": [],
   "source": [
    "class Graph:\n",
    "\n",
    "    def __init__(self, vertices):\n",
    "        self.V = vertices   \n",
    "        self.graph = []   \n",
    "\n",
    "\n",
    "    def add_edge(self, s, d, w):\n",
    "        self.graph.append([s, d, w])\n",
    "\n",
    "\n",
    "    def print_solution(self, dist, src, next_hop):\n",
    "        print(\"Routing table for \", src)\n",
    "        print(\"Dest \\t Cost \\t Next Hop\")\n",
    "        for i in range(self.V):\n",
    "            print(\"{0} \\t {1} \\t {2}\".format(i, dist[i], next_hop[i]))\n",
    "\n",
    "    def bellman_ford(self, src):\n",
    "\n",
    "        dist = [99] * self.V\n",
    "        dist[src] = 0\n",
    "        next_hop = {src: src}\n",
    "        for _ in range(self.V - 1):\n",
    "            for s, d, w in self.graph:\n",
    "                if dist[s] != 99 and dist[s] + w < dist[d]:\n",
    "                    dist[d] = dist[s] + w\n",
    "                    if s == src:\n",
    "                        next_hop[d] =d\n",
    "                    elif s in next_hop:\n",
    "                        next_hop[d] = next_hop[s]\n",
    "        \n",
    "        for s, d, w in self.graph:\n",
    "            if dist[s] != 99 and dist[s] + w < dist[d]:\n",
    "                print(\"Graph contains negative weight cycle\")\n",
    "                return\n",
    "\n",
    "        self.print_solution(dist, src, next_hop)\n"
   ]
  },
  {
   "cell_type": "code",
   "execution_count": 4,
   "metadata": {},
   "outputs": [],
   "source": [
    "def main():\n",
    "    matrix = []\n",
    "    print(\"Enter the no. of routers:\")\n",
    "    n = int(input())\n",
    "    print(\"Enter the adjacency matrix : Enter 99 for infinity\")\n",
    "    for i in range(0,n):\n",
    "        a = list(map(int, input().split(\" \")))\n",
    "        matrix.append(a)\n",
    "        \n",
    "    g = Graph(n)\n",
    "    for i in range(0,n):\n",
    "        for j in range(0,n):\n",
    "            g.add_edge(i,j,matrix[i][j])\n",
    "                \n",
    "    for k in range(0, n):\n",
    "        g.bellman_ford(k)"
   ]
  },
  {
   "cell_type": "code",
   "execution_count": 5,
   "metadata": {},
   "outputs": [
    {
     "name": "stdout",
     "output_type": "stream",
     "text": [
      "Enter the no. of routers:\n",
      "5\n",
      "Enter the adjacency matrix : Enter 99 for infinity\n",
      "0 1 5 99 99\n",
      "1 0 3 99 9\n",
      "5 3 0 4 99\n",
      "99 99 4 0 2\n",
      "99 9 99 2 0\n",
      "Routing table for  0\n",
      "Dest \t Cost \t Next Hop\n",
      "0 \t 0 \t 0\n",
      "1 \t 1 \t 1\n",
      "2 \t 4 \t 1\n",
      "3 \t 8 \t 1\n",
      "4 \t 10 \t 1\n",
      "Routing table for  1\n",
      "Dest \t Cost \t Next Hop\n",
      "0 \t 1 \t 0\n",
      "1 \t 0 \t 1\n",
      "2 \t 3 \t 2\n",
      "3 \t 7 \t 2\n",
      "4 \t 9 \t 4\n",
      "Routing table for  2\n",
      "Dest \t Cost \t Next Hop\n",
      "0 \t 4 \t 1\n",
      "1 \t 3 \t 1\n",
      "2 \t 0 \t 2\n",
      "3 \t 4 \t 3\n",
      "4 \t 6 \t 3\n",
      "Routing table for  3\n",
      "Dest \t Cost \t Next Hop\n",
      "0 \t 8 \t 2\n",
      "1 \t 7 \t 2\n",
      "2 \t 4 \t 2\n",
      "3 \t 0 \t 3\n",
      "4 \t 2 \t 4\n",
      "Routing table for  4\n",
      "Dest \t Cost \t Next Hop\n",
      "0 \t 10 \t 1\n",
      "1 \t 9 \t 1\n",
      "2 \t 6 \t 3\n",
      "3 \t 2 \t 3\n",
      "4 \t 0 \t 4\n"
     ]
    }
   ],
   "source": [
    "main()"
   ]
  },
  {
   "cell_type": "code",
   "execution_count": 6,
   "metadata": {},
   "outputs": [
    {
     "name": "stdout",
     "output_type": "stream",
     "text": [
      "Enter the no. of routers:\n",
      "5\n",
      "Enter the adjacency matrix : Enter 99 for infinity\n",
      "0 10 1 3 99\n",
      "10 0 5 2 99\n",
      "1 5 0 4 1\n",
      "3 2 4 0 99\n",
      "99 99 1 99 0\n",
      "Routing table for  0\n",
      "Dest \t Cost \t Next Hop\n",
      "0 \t 0 \t 0\n",
      "1 \t 5 \t 3\n",
      "2 \t 1 \t 2\n",
      "3 \t 3 \t 3\n",
      "4 \t 2 \t 2\n",
      "Routing table for  1\n",
      "Dest \t Cost \t Next Hop\n",
      "0 \t 5 \t 3\n",
      "1 \t 0 \t 1\n",
      "2 \t 5 \t 2\n",
      "3 \t 2 \t 3\n",
      "4 \t 6 \t 2\n",
      "Routing table for  2\n",
      "Dest \t Cost \t Next Hop\n",
      "0 \t 1 \t 0\n",
      "1 \t 5 \t 1\n",
      "2 \t 0 \t 2\n",
      "3 \t 4 \t 3\n",
      "4 \t 1 \t 4\n",
      "Routing table for  3\n",
      "Dest \t Cost \t Next Hop\n",
      "0 \t 3 \t 0\n",
      "1 \t 2 \t 1\n",
      "2 \t 4 \t 2\n",
      "3 \t 0 \t 3\n",
      "4 \t 5 \t 2\n",
      "Routing table for  4\n",
      "Dest \t Cost \t Next Hop\n",
      "0 \t 2 \t 2\n",
      "1 \t 6 \t 2\n",
      "2 \t 1 \t 2\n",
      "3 \t 5 \t 2\n",
      "4 \t 0 \t 4\n"
     ]
    }
   ],
   "source": [
    "main()"
   ]
  },
  {
   "cell_type": "code",
   "execution_count": null,
   "metadata": {},
   "outputs": [],
   "source": []
  }
 ],
 "metadata": {
  "kernelspec": {
   "display_name": "Python 3",
   "language": "python",
   "name": "python3"
  },
  "language_info": {
   "codemirror_mode": {
    "name": "ipython",
    "version": 3
   },
   "file_extension": ".py",
   "mimetype": "text/x-python",
   "name": "python",
   "nbconvert_exporter": "python",
   "pygments_lexer": "ipython3",
   "version": "3.7.6"
  }
 },
 "nbformat": 4,
 "nbformat_minor": 4
}
